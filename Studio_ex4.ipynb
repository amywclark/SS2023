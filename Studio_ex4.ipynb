{
 "cells": [
  {
   "cell_type": "code",
   "execution_count": null,
   "id": "cb565fcf-063c-416b-b3a1-8814269990d6",
   "metadata": {},
   "outputs": [],
   "source": [
    "import spacy"
   ]
  },
  {
   "cell_type": "code",
   "execution_count": null,
   "id": "e3ae0396-dad7-4877-aa97-1ecdeab1a27b",
   "metadata": {},
   "outputs": [],
   "source": [
    "import textacy"
   ]
  },
  {
   "cell_type": "code",
   "execution_count": null,
   "id": "b8c6db9e-7172-470b-a58b-b38bd13e3788",
   "metadata": {},
   "outputs": [],
   "source": [
    "import nltk"
   ]
  },
  {
   "cell_type": "code",
   "execution_count": null,
   "id": "9ca04691-263b-4fb2-aff6-79db97045985",
   "metadata": {},
   "outputs": [],
   "source": [
    "from textacy.extract import subject_verb_object_triples\n",
    "nlp = spacy.load('en_core_web_sm')"
   ]
  },
  {
   "cell_type": "code",
   "execution_count": null,
   "id": "57809203-8b95-4bd1-b45f-3407edfbca85",
   "metadata": {},
   "outputs": [],
   "source": [
    "with open('heaney_beowulf.txt') as f:\n",
    "    heaney_read = f.read()"
   ]
  },
  {
   "cell_type": "code",
   "execution_count": null,
   "id": "be9d2c26-3d58-44ca-9c42-ca850b94d432",
   "metadata": {},
   "outputs": [],
   "source": [
    "beo_svo = nlp(heaney_read)\n",
    "svo_beo = textacy.extract.subject_verb_object_triples(beo_svo)"
   ]
  },
  {
   "cell_type": "code",
   "execution_count": null,
   "id": "a9b69af1-cc67-4697-95f2-6924d778e7ba",
   "metadata": {},
   "outputs": [],
   "source": [
    "list(svo_beo)"
   ]
  },
  {
   "cell_type": "code",
   "execution_count": null,
   "id": "b81f4cef-785f-4c16-bb56-fee9796fa16c",
   "metadata": {},
   "outputs": [],
   "source": [
    "from textacy import extract, make_spacy_doc"
   ]
  },
  {
   "cell_type": "code",
   "execution_count": null,
   "id": "250c2d61-ccb6-4070-99b3-572feac47b8c",
   "metadata": {},
   "outputs": [],
   "source": [
    "doc = make_spacy_doc(heaney_read, lang=\"en_core_web_sm\")"
   ]
  },
  {
   "cell_type": "code",
   "execution_count": null,
   "id": "c3dc363b-0c7c-4536-b96d-bf6246ad4382",
   "metadata": {},
   "outputs": [],
   "source": [
    "pip install pandas"
   ]
  },
  {
   "cell_type": "code",
   "execution_count": null,
   "id": "08c121a4-0f68-44e1-8733-9392299fc2cc",
   "metadata": {},
   "outputs": [],
   "source": [
    "pip install pandas"
   ]
  },
  {
   "cell_type": "code",
   "execution_count": null,
   "id": "5b47441d-8def-482e-bf95-363d45511b4f",
   "metadata": {},
   "outputs": [],
   "source": [
    "import numpy as np\n",
    "import pandas as pd"
   ]
  },
  {
   "cell_type": "code",
   "execution_count": null,
   "id": "ad59e522-d23e-4dbc-9f98-e63809d1ba6c",
   "metadata": {},
   "outputs": [],
   "source": [
    "keyterms = [\"she\"]"
   ]
  },
  {
   "cell_type": "code",
   "execution_count": null,
   "id": "1c78341a-ed69-4c1e-a9e5-294ca5404a14",
   "metadata": {},
   "outputs": [],
   "source": [
    "sentences = []\n",
    "for term in keyterms:\n",
    "    keyterm_sentences = [s for s in doc.sents if term in s.lemma_]\n",
    "    for s in keyterm_sentences:\n",
    "        dictionary = {\"keyterm\": None, \"sentence\": None}\n",
    "        dictionary[\"keyterm\"], dictionary[\"sentence\"] = term, s\n",
    "        sentences.append(dictionary)\n",
    "sentence_data = pd.DataFrame(sentences)\n",
    "sentence_data.to_csv(\"sentence_data.csv\")"
   ]
  },
  {
   "cell_type": "code",
   "execution_count": null,
   "id": "96e8bae0-ee82-4b49-a18c-b64320cf7976",
   "metadata": {},
   "outputs": [],
   "source": [
    "SVOs = extract.subject_verb_object_triples(doc)\n",
    "svos = []"
   ]
  },
  {
   "cell_type": "code",
   "execution_count": null,
   "id": "c67961cb-84e6-4411-8795-d712bd6328ae",
   "metadata": {},
   "outputs": [],
   "source": [
    "for term in keyterms:\n",
    "    for s in SVOs:\n",
    "        dictionary = {\"keyterm\": None, \"svo\": None}\n",
    "        svo_lemma = [t[0].lemma_ for t in s] \n",
    "        if term in svo_lemma:\n",
    "            dictionary[\"keyterm\"], dictionary[\"svo\"] = term, [t for t in svo_lemma]\n",
    "            svos.append(dictionary)\n",
    "        else:\n",
    "            pass\n",
    "svo_data = pd.DataFrame(svos)\n",
    "svo_data.to_csv(\"svo_data.csv\")"
   ]
  },
  {
   "cell_type": "code",
   "execution_count": null,
   "id": "bdc7b263-c882-496a-a4c6-3c6fcd5147dd",
   "metadata": {},
   "outputs": [],
   "source": [
    "print(svos)"
   ]
  },
  {
   "cell_type": "code",
   "execution_count": null,
   "id": "93aae7dc-5d2f-4631-896a-4a78f8601afd",
   "metadata": {},
   "outputs": [],
   "source": []
  }
 ],
 "metadata": {
  "kernelspec": {
   "display_name": "Python 3 (ipykernel)",
   "language": "python",
   "name": "python3"
  },
  "language_info": {
   "codemirror_mode": {
    "name": "ipython",
    "version": 3
   },
   "file_extension": ".py",
   "mimetype": "text/x-python",
   "name": "python",
   "nbconvert_exporter": "python",
   "pygments_lexer": "ipython3",
   "version": "3.7.12"
  }
 },
 "nbformat": 4,
 "nbformat_minor": 5
}
